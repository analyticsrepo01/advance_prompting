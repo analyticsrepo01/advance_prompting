{
 "cells": [
  {
   "cell_type": "markdown",
   "metadata": {
    "id": "Mp5g90GjRhnL"
   },
   "source": [
    "## Trip Itinerary Planner using Vertex LLM\n",
    "\n",
    "Details about the project: [here](https://docs.google.com/document/d/14GPoh6UYXgi-7PPAXPwS5hii63phzs6BlKiu-6QnmMQ/edit?resourcekey=0-DEPXV6CQflQuJAHSa38efQ)\n",
    "\n",
    "\n",
    "Use case problem\n",
    "Planning a trip can be a daunting task, especially if you're trying to do it for a large group of people. There are so many things to keep track of, from flights and hotels to activities and transportation. It's easy to forget something important or make a mistake that could ruin your trip.\n",
    "\n",
    "Use case solution\n",
    "Our trip itinerary planner solves this problem by providing a simple, easy-to-use interface for planning your trip. You can enter all of the important details, such as your travel days, budget, and interests, and the planner will generate a personalized itinerary for you considering your budget. The itinerary will include everything you need to know, from where to stay to what to do each day.\n",
    "\n",
    "\n",
    "Approach\n",
    "Vertex AI offering to be used: Gen AI Studio ( Language) - General tips and advice\n",
    "APIs\n",
    "Experiments using Vertex AI Get AI Studio UI\n",
    "Experiments using Vertex AI SDK for Python in Colab\n",
    "\n",
    "Prompt Design\n",
    "Below prompts have been used to get responses from LLM.\n",
    "\n",
    "```\n",
    "You are an experienced trip itinerary planner and you are working for a famous travel agency.\n",
    "-Instruction:\n",
    "Don't give incomplete sentences.\n",
    "Don't give long descriptions\n",
    "\n",
    "- Prepare Itinerary for {number_of_people} people traveling to {trip_destination} for {trip_days} days.\n",
    "- Consider {trip_price_category} {currency} budget for the complete trip.\n",
    "- Include the cost of each activity in the itinerary.\n",
    "- Include a link to the photos for each day.\n",
    "- Exclude information about tourist places.\n",
    "\n",
    "```\n",
    "\n",
    "Risks\n",
    "Results depend on the performance of Gen AI LLM APIs.\n",
    "The end user will not have access to the prompt sent to the model.\n"
   ]
  },
  {
   "cell_type": "markdown",
   "metadata": {
    "id": "vi9uNmUbTq5D"
   },
   "source": [
    "### The responce from the model:\n",
    "\n",
    "Here is a sample itinerary for a 5-day trip to Bali for 2 people on a medium budget:\n",
    "**Day 1**\n",
    "\n",
    "* Arrive at Ngurah Rai International Airport (DPS)\n",
    "* Check in at Hotel Puri Nusa Indah ($30/night)\n",
    "* Visit Uluwatu Temple for sunset (~$5 entrance fee)\n",
    "* Photos: https://bit.ly/bali-day1-photos\n",
    "\n",
    "**Day 2**\n",
    "\n",
    "* Hike Mount Batur ($65/person for guided tour)\n",
    "* Visit Tegalalang Rice Terrace (~$10 entrance fee)\n",
    "* Photos: https://bit.ly/bali-day2-photos\n",
    "\n",
    "**Day 3**\n",
    "\n",
    "* Take a cooking class ($40/person)\n",
    "* Visit the Sacred Monkey Forest Sanctuary (~$15 entrance fee)\n",
    "* Photos: https://bit.ly/bali-day3-photos\n",
    "\n",
    "**Day 4**\n",
    "\n",
    "* Snorkel or dive in Nusa Penida ($45/person for boat trip)\n",
    "* Visit Crystal Bay Beach\n",
    "* Photos: https://bit.ly/bali-day4-photos\n",
    "\n",
    "**Day 5**\n",
    "\n",
    "* Visit Jimbaran Beach for a seafood dinner (~$20/person)\n",
    "* Depart from DPS\n",
    "* Photos: https://bit.ly/bali-day5-photos\n",
    "\n",
    "**Estimated Total Cost:** $450-500 per person"
   ]
  },
  {
   "cell_type": "code",
   "execution_count": 1,
   "metadata": {
    "id": "_fZ8XzodA-Yz"
   },
   "outputs": [],
   "source": [
    "## Authenticate yourself\n",
    "# from google.colab import auth as google_auth\n",
    "# google_auth.authenticate_user()"
   ]
  },
  {
   "cell_type": "code",
   "execution_count": 2,
   "metadata": {
    "colab": {
     "base_uri": "https://localhost:8080/",
     "height": 741
    },
    "id": "cXcCyH8GBVW4",
    "outputId": "b6053a0a-40cc-41d4-a540-bab2a8e1973b"
   },
   "outputs": [],
   "source": [
    "## Pip install aiplatform\n",
    "!pip install -q google-cloud-aiplatform"
   ]
  },
  {
   "cell_type": "code",
   "execution_count": 3,
   "metadata": {},
   "outputs": [
    {
     "name": "stdout",
     "output_type": "stream",
     "text": [
      "my-project-0004-346516\n",
      "my-project-0004-346516\n"
     ]
    }
   ],
   "source": [
    "# GCP_PROJECT= PROJECT_ID=project_id= !(gcloud config get-value core/project)\n",
    "PROJECT_ID= !(gcloud config get-value core/project)\n",
    "PROJECT_ID = PROJECT_ID[0]\n",
    "GCP_PROJECT = PROJECT_ID\n",
    "VERTEX_API_LOCATION = LOCATION = REGION = 'asia-southeast1'\n",
    "\n",
    "print(GCP_PROJECT)\n",
    "print(PROJECT_ID)\n",
    "\n",
    "BUCKET_NAME = 'my-project-0004-bucket' # @param {type:\"string\"}\n",
    "\n",
    "# The Cloud Storage bucket for storing experiments output with gs:// prefix.\n",
    "BUCKET_URI = \"gs://my-project-0004-bucket\"  # @param {type:\"string\"}\n"
   ]
  },
  {
   "cell_type": "code",
   "execution_count": 4,
   "metadata": {
    "id": "zBpSmQQlBXBs"
   },
   "outputs": [],
   "source": [
    "## Load all required libraries\n",
    "from google.cloud import aiplatform\n",
    "from google.cloud.aiplatform.gapic.schema import predict\n",
    "from google.protobuf import json_format\n",
    "from google.protobuf.struct_pb2 import Value\n",
    "\n",
    "import vertexai\n",
    "from vertexai.language_models import TextGenerationModel\n",
    "\n",
    "vertexai.init(project=PROJECT_ID, location=LOCATION)\n",
    "parameters = {\n",
    "    \"temperature\": 0,\n",
    "    \"max_output_tokens\": 1024,\n",
    "    \"top_p\": 0.8,\n",
    "    \"top_k\": 40\n",
    "}\n"
   ]
  },
  {
   "cell_type": "code",
   "execution_count": 10,
   "metadata": {
    "id": "CXNH9LoaJaKx"
   },
   "outputs": [],
   "source": [
    "## Get Trip details from Customer\n",
    "customer_source_loc=\"New York, USA\"     # @param {type: \"string\"}\n",
    "trip_destination=\"Bali, Indonesia\"        # @param {type: \"string\"}\n",
    "currency = 'USD'\n",
    "trip_price_category=\"Medium\"            # @param {type: \"string\"}\n",
    "number_of_people = 2\n",
    "trip_days = 5"
   ]
  },
  {
   "cell_type": "code",
   "execution_count": 11,
   "metadata": {
    "id": "5WWZet_mBeYX"
   },
   "outputs": [],
   "source": [
    "## Design Prompt for LLM\n",
    "trip_itinery_query = '''You are an experienced trip itinerary planner and you are working for a famous travel agency.\n",
    "-Instruction:\n",
    "Don't give incomplete sentences.\n",
    "Don't give long descriptions\n",
    "\n",
    "- Prepare Itinerary for {number_of_people} people traveling to {trip_destination} for {trip_days} days.\n",
    "- Consider {trip_price_category} {currency} budget for the complete trip.\n",
    "- Include the cost of each activity in the itinerary.\n",
    "- Include a link to the photos for each day.\n",
    "- Exclude information about tourist places.\n",
    "'''.format(customer_source_loc=customer_source_loc, number_of_people=number_of_people, trip_destination=trip_destination, trip_price_category=trip_price_category, trip_days=trip_days, currency=currency)\n",
    "\n",
    "# - Include famous as well as virgin places to visit with the travel cost from hotel.\n",
    "# - Include places where I can have breakfast, lunch and dinner."
   ]
  },
  {
   "cell_type": "code",
   "execution_count": 12,
   "metadata": {
    "tags": []
   },
   "outputs": [
    {
     "name": "stdout",
     "output_type": "stream",
     "text": [
      "You are an experienced trip itinerary planner and you are working for a famous travel agency.\n",
      "-Instruction:\n",
      "Don't give incomplete sentences.\n",
      "Don't give long descriptions\n",
      "\n",
      "- Prepare Itinerary for 2 people traveling to Bali, Indonesia for 5 days.\n",
      "- Consider Medium USD budget for the complete trip.\n",
      "- Include the cost of each activity in the itinerary.\n",
      "- Include a link to the photos for each day.\n",
      "- Exclude information about tourist places.\n",
      "\n"
     ]
    }
   ],
   "source": [
    "print(trip_itinery_query)"
   ]
  },
  {
   "cell_type": "code",
   "execution_count": 13,
   "metadata": {
    "colab": {
     "base_uri": "https://localhost:8080/",
     "height": 210
    },
    "id": "vuh0cl-rCDrj",
    "outputId": "1519e8f2-3f04-43df-8048-f2a16a1aa24d"
   },
   "outputs": [],
   "source": [
    "# ## Get the prediction from LLM\n",
    "# predict_large_language_model_sample(\"us-central1-aiplatform.googleapis.com\", \"cloud-large-language-models\", endpoint_id, trip_itinery_query , temperature, max_decode_steps, top_p, top_k, \"us-central1\")"
   ]
  },
  {
   "cell_type": "code",
   "execution_count": 15,
   "metadata": {
    "id": "CE7FuPJfAvkO",
    "tags": []
   },
   "outputs": [
    {
     "name": "stdout",
     "output_type": "stream",
     "text": [
      "**Day 1**\n",
      "\n",
      "* Arrive at Ngurah Rai International Airport (DPS)\n",
      "* Check in at Hotel Puri Nusa Indah ($30/night)\n",
      "* Visit Uluwatu Temple for sunset (~$5 entrance fee)\n",
      "* Photos: https://bit.ly/bali-day1-photos\n",
      "\n",
      "**Day 2**\n",
      "\n",
      "* Hike Mount Batur ($65/person for guided tour)\n",
      "* Visit Tegalalang Rice Terrace (~$10 entrance fee)\n",
      "* Photos: https://bit.ly/bali-day2-photos\n",
      "\n",
      "**Day 3**\n",
      "\n",
      "* Take a cooking class ($40/person)\n",
      "* Visit the Sacred Monkey Forest Sanctuary (~$15 entrance fee)\n",
      "* Photos: https://bit.ly/bali-day3-photos\n",
      "\n",
      "**Day 4**\n",
      "\n",
      "* Snorkel or dive in Nusa Penida ($45/person for boat trip)\n",
      "* Visit Crystal Bay Beach\n",
      "* Photos: https://bit.ly/bali-day4-photos\n",
      "\n",
      "**Day 5**\n",
      "\n",
      "* Visit Jimbaran Beach for a seafood dinner (~$20/person)\n",
      "* Depart from DPS\n",
      "* Photos: https://bit.ly/bali-day5-photos\n",
      "\n",
      "**Estimated Total Cost:** $450-500 per person"
     ]
    }
   ],
   "source": [
    "import vertexai\n",
    "from vertexai.preview.generative_models import GenerativeModel, Part\n",
    "import vertexai.preview.generative_models as generative_models\n",
    "\n",
    "def generate():\n",
    "  vertexai.init(project=PROJECT_ID, location=LOCATION)\n",
    "  model = GenerativeModel(\"gemini-1.0-pro-001\")\n",
    "  responses = model.generate_content(\n",
    "    trip_itinery_query,\n",
    "    generation_config={\n",
    "        \"max_output_tokens\": 2048,\n",
    "        \"temperature\": 0.9,\n",
    "        \"top_p\": 1\n",
    "    },\n",
    "    safety_settings={\n",
    "          generative_models.HarmCategory.HARM_CATEGORY_HATE_SPEECH: generative_models.HarmBlockThreshold.BLOCK_MEDIUM_AND_ABOVE,\n",
    "          generative_models.HarmCategory.HARM_CATEGORY_DANGEROUS_CONTENT: generative_models.HarmBlockThreshold.BLOCK_MEDIUM_AND_ABOVE,\n",
    "          generative_models.HarmCategory.HARM_CATEGORY_SEXUALLY_EXPLICIT: generative_models.HarmBlockThreshold.BLOCK_MEDIUM_AND_ABOVE,\n",
    "          generative_models.HarmCategory.HARM_CATEGORY_HARASSMENT: generative_models.HarmBlockThreshold.BLOCK_MEDIUM_AND_ABOVE,\n",
    "    },\n",
    "    stream=True,\n",
    "  )\n",
    "  \n",
    "  for response in responses:\n",
    "    print(response.text, end=\"\")\n",
    "\n",
    "\n",
    "generate()"
   ]
  },
  {
   "cell_type": "code",
   "execution_count": null,
   "metadata": {},
   "outputs": [],
   "source": []
  }
 ],
 "metadata": {
  "colab": {
   "provenance": [],
   "toc_visible": true
  },
  "environment": {
   "kernel": "conda-env-pytorch-pytorch",
   "name": "workbench-notebooks.m113",
   "type": "gcloud",
   "uri": "gcr.io/deeplearning-platform-release/workbench-notebooks:m113"
  },
  "kernelspec": {
   "display_name": "PyTorch 1-13 (Local)",
   "language": "python",
   "name": "conda-env-pytorch-pytorch"
  },
  "language_info": {
   "codemirror_mode": {
    "name": "ipython",
    "version": 3
   },
   "file_extension": ".py",
   "mimetype": "text/x-python",
   "name": "python",
   "nbconvert_exporter": "python",
   "pygments_lexer": "ipython3",
   "version": "3.10.13"
  }
 },
 "nbformat": 4,
 "nbformat_minor": 4
}
